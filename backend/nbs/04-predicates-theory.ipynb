{
 "cells": [
  {
   "cell_type": "code",
   "execution_count": 33,
   "metadata": {},
   "outputs": [],
   "source": [
    "from dataclasses import dataclass\n",
    "\n",
    "@dataclass\n",
    "class Char:\n",
    "    size: int = 1\n",
    "    font: str = ''\n",
    "\n",
    "chars = [\n",
    "    Char(1, ''),\n",
    "    Char(1, 'bold'),\n",
    "    Char(1, 'italic'),\n",
    "    Char(1, 'bold_italic'),\n",
    "    Char(2, ''),\n",
    "    Char(2, 'bold'),\n",
    "    Char(2, 'italic'),\n",
    "    Char(2, 'bold_italic'),\n",
    "]\n",
    "\n",
    "# write a function to filter chars: either bold or (italic and size >= 2)\n",
    "# results should be: [Char(1, 'bold'), Char(1, 'bold_italic'), Char(2, 'bold'), Char(2, 'italic'), Char(2, 'bold_italic')]"
   ]
  },
  {
   "cell_type": "code",
   "execution_count": 5,
   "metadata": {},
   "outputs": [],
   "source": [
    "# predicate creators\n",
    "char_font_has_substring = lambda substring: lambda char: substring in char.font\n",
    "char_size_ge            = lambda size:      lambda char: char.size >= size"
   ]
  },
  {
   "cell_type": "code",
   "execution_count": 6,
   "metadata": {},
   "outputs": [],
   "source": [
    "# predicates for chars\n",
    "is_bold      = char_font_has_substring('bold')\n",
    "is_italic    = char_font_has_substring('italic')\n",
    "is_size_ge_2 = char_size_ge(2)"
   ]
  },
  {
   "cell_type": "code",
   "execution_count": 11,
   "metadata": {},
   "outputs": [],
   "source": [
    "# predicate sets creator\n",
    "orrer = lambda *predicates: lambda char: any(p(char) for p in predicates)\n",
    "ander = lambda *predicates: lambda char: all(p(char) for p in predicates)\n",
    "# Note: to greate a single predicate, you can use either orrer or ander with a single predicate"
   ]
  },
  {
   "cell_type": "code",
   "execution_count": 34,
   "metadata": {},
   "outputs": [
    {
     "data": {
      "text/plain": [
       "False"
      ]
     },
     "execution_count": 34,
     "metadata": {},
     "output_type": "execute_result"
    }
   ],
   "source": [
    "# predicate for \"either bold or (italic and size >= 2)\"\n",
    "pred = orrer(\n",
    "    orrer(is_bold), # or ander(is_bold)\n",
    "    ander(is_italic, is_size_ge_2),\n",
    ")\n",
    "pred(chars[0])"
   ]
  },
  {
   "cell_type": "code",
   "execution_count": 35,
   "metadata": {},
   "outputs": [
    {
     "name": "stdout",
     "output_type": "stream",
     "text": [
      "Char(size=1, font='') -> False\n",
      "Char(size=1, font='bold') -> True\n",
      "Char(size=1, font='italic') -> False\n",
      "Char(size=1, font='bold_italic') -> True\n",
      "Char(size=2, font='') -> False\n",
      "Char(size=2, font='bold') -> True\n",
      "Char(size=2, font='italic') -> True\n",
      "Char(size=2, font='bold_italic') -> True\n"
     ]
    }
   ],
   "source": [
    "# for all chars\n",
    "for char in chars:\n",
    "    print(f'{char} -> {pred(char)}')"
   ]
  }
 ],
 "metadata": {
  "kernelspec": {
   "display_name": "pdfbookmarks",
   "language": "python",
   "name": "python3"
  },
  "language_info": {
   "codemirror_mode": {
    "name": "ipython",
    "version": 3
   },
   "file_extension": ".py",
   "mimetype": "text/x-python",
   "name": "python",
   "nbconvert_exporter": "python",
   "pygments_lexer": "ipython3",
   "version": "3.11.6"
  }
 },
 "nbformat": 4,
 "nbformat_minor": 2
}
