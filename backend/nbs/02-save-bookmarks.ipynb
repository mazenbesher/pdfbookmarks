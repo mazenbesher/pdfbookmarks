{
 "cells": [
  {
   "cell_type": "markdown",
   "metadata": {},
   "source": [
    "Save bookmarks"
   ]
  },
  {
   "cell_type": "code",
   "execution_count": null,
   "metadata": {},
   "outputs": [],
   "source": [
    "import pypdf\n",
    "from pypdf import PdfMerger\n",
    "from pypdf.generic import Fit"
   ]
  },
  {
   "cell_type": "code",
   "execution_count": null,
   "metadata": {},
   "outputs": [],
   "source": [
    "page_num = 4"
   ]
  },
  {
   "cell_type": "code",
   "execution_count": null,
   "metadata": {},
   "outputs": [
    {
     "data": {
      "text/plain": [
       "{'matrix': (1, 0, 0, 1, 50.04, 315.77),\n",
       " 'fontname': 'Times New Roman,Bold',\n",
       " 'adv': 7.970879999999999,\n",
       " 'upright': True,\n",
       " 'x0': 50.04,\n",
       " 'y0': 313.38536,\n",
       " 'x1': 58.01088,\n",
       " 'y1': 324.42535999999996,\n",
       " 'width': 7.970880000000001,\n",
       " 'height': 11.039999999999964,\n",
       " 'size': 11.039999999999964,\n",
       " 'mcid': 8,\n",
       " 'tag': 'P',\n",
       " 'object_type': 'char',\n",
       " 'page_number': 5,\n",
       " 'ncs': 'DeviceGray',\n",
       " 'text': 'D',\n",
       " 'stroking_color': (0,),\n",
       " 'stroking_pattern': None,\n",
       " 'non_stroking_color': (0,),\n",
       " 'non_stroking_pattern': None,\n",
       " 'top': 418.37464,\n",
       " 'bottom': 429.41463999999996,\n",
       " 'doctop': 3438.7746399999996}"
      ]
     },
     "metadata": {},
     "output_type": "display_data"
    }
   ],
   "source": [
    "header_chars = get_header_chars(pdf_file.pages[page_num], HeaderConfig(bold=True, min_font_size=10))\n",
    "header_chars[0]"
   ]
  },
  {
   "cell_type": "code",
   "execution_count": null,
   "metadata": {},
   "outputs": [
    {
     "data": {
      "text/plain": [
       "{300.42535999999996: '2.1.High Sampling NILM Datasets ',\n",
       " 300.52472: ' ',\n",
       " 324.42535999999996: 'Data'}"
      ]
     },
     "metadata": {},
     "output_type": "display_data"
    }
   ],
   "source": [
    "header_tops = set([\n",
    "    char['y1']\n",
    "    for char in header_chars\n",
    "])\n",
    "\n",
    "header_chars_by_tops = {\n",
    "    top: [\n",
    "        char\n",
    "        for char in header_chars\n",
    "        if char['y1'] == top\n",
    "    ]\n",
    "    for top in header_tops\n",
    "}\n",
    "\n",
    "header_lines_by_tops = {\n",
    "    top: ''.join([\n",
    "        char['text']\n",
    "        for char in header_chars_by_tops[top]\n",
    "    ])\n",
    "    for top in header_tops\n",
    "}\n",
    "\n",
    "header_lines_by_tops = dict(sorted(header_lines_by_tops.items()))\n",
    "header_lines_by_tops"
   ]
  },
  {
   "cell_type": "code",
   "execution_count": null,
   "metadata": {},
   "outputs": [],
   "source": [
    "merger = PdfMerger()\n",
    "merger.append(input_path, import_outline=False)"
   ]
  },
  {
   "cell_type": "code",
   "execution_count": null,
   "metadata": {},
   "outputs": [],
   "source": [
    "for header_top, header_line in header_lines_by_tops.items():\n",
    "    header_line = header_line.strip()\n",
    "    if header_line == '':\n",
    "        continue\n",
    "    merger.add_outline_item(\n",
    "        title=header_line,\n",
    "        page_number=page_num,\n",
    "        parent=None,\n",
    "        color=(0.0, 0.0, 0.0), # TODO: test\n",
    "        bold=False, # TODO: test\n",
    "        italic=False, # TODO: test\n",
    "        fit=Fit.fit_horizontally(top=header_top),\n",
    "    )"
   ]
  },
  {
   "cell_type": "code",
   "execution_count": null,
   "metadata": {},
   "outputs": [],
   "source": [
    "output_path = \"./review-paper-with-bookmarks.pdf\" \n",
    "merger.write(output_path)\n",
    "merger.close()"
   ]
  },
  {
   "cell_type": "code",
   "execution_count": null,
   "metadata": {},
   "outputs": [],
   "source": [
    "!open -a \"Adobe Acrobat Reader\" {output_path}"
   ]
  }
 ],
 "metadata": {
  "language_info": {
   "name": "python"
  }
 },
 "nbformat": 4,
 "nbformat_minor": 2
}
