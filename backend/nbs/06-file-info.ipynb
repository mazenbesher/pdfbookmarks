{
 "cells": [
  {
   "cell_type": "code",
   "execution_count": null,
   "metadata": {},
   "outputs": [],
   "source": [
    "import pdfplumber"
   ]
  },
  {
   "cell_type": "code",
   "execution_count": null,
   "metadata": {},
   "outputs": [],
   "source": [
    "input_path = '../../../test-pdfs/attention.pdf'"
   ]
  },
  {
   "cell_type": "code",
   "execution_count": null,
   "metadata": {},
   "outputs": [
    {
     "data": {
      "text/plain": [
       "{'size': 569417,\n",
       " 'last_accessed': 1699712233.5234797,\n",
       " 'last_modified': 1599691497.0,\n",
       " 'creation_time': 1699712232.2596188}"
      ]
     },
     "metadata": {},
     "output_type": "display_data"
    }
   ],
   "source": [
    "# get file info\n",
    "\n",
    "import os\n",
    "\n",
    "file_stat = os.stat(input_path)\n",
    "\n",
    "stat_dict = {\n",
    "    'size': file_stat.st_size,\n",
    "    'last_accessed': file_stat.st_atime,\n",
    "    'last_modified': file_stat.st_mtime,\n",
    "    'creation_time': file_stat.st_ctime,\n",
    "}\n",
    "stat_dict"
   ]
  },
  {
   "cell_type": "code",
   "execution_count": null,
   "metadata": {},
   "outputs": [],
   "source": [
    "pdf_file = pdfplumber.open(input_path)"
   ]
  },
  {
   "cell_type": "code",
   "execution_count": null,
   "metadata": {},
   "outputs": [
    {
     "data": {
      "text/plain": [
       "{'Subject': 'Neural Information Processing Systems http://nips.cc/',\n",
       " 'Publisher': 'Curran Associates, Inc.',\n",
       " 'Language': 'en-US',\n",
       " 'Created': '2017',\n",
       " 'EventType': 'Poster',\n",
       " 'Description-Abstract': 'The dominant sequence transduction models are based on complex recurrent orconvolutional neural networks in an encoder and decoder configuration. The best performing such models also connect the encoder and decoder through an attentionm echanisms.  We propose a novel, simple network architecture based solely onan attention mechanism, dispensing with recurrence and convolutions entirely.Experiments on two machine translation tasks show these models to be superiorin quality while being more parallelizable and requiring significantly less timeto train. Our single model with 165 million parameters, achieves 27.5 BLEU onEnglish-to-German translation, improving over the existing best ensemble result by over 1 BLEU. On English-to-French translation, we outperform the previoussingle state-of-the-art with model by 0.7 BLEU, achieving a BLEU score of 41.1.',\n",
       " 'Producer': 'PyPDF2',\n",
       " 'Title': 'Attention is All you Need',\n",
       " 'Date': '2017',\n",
       " 'ModDate': \"D:20180212212210-08'00'\",\n",
       " 'Published': '2017',\n",
       " 'Type': 'Conference Proceedings',\n",
       " 'firstpage': '5998',\n",
       " 'Book': 'Advances in Neural Information Processing Systems 30',\n",
       " 'Description': 'Paper accepted and presented at the Neural Information Processing Systems Conference (http://nips.cc/)',\n",
       " 'Editors': 'I. Guyon and U.V. Luxburg and S. Bengio and H. Wallach and R. Fergus and S. Vishwanathan and R. Garnett',\n",
       " 'Author': 'Ashish Vaswani, Noam Shazeer, Niki Parmar, Jakob Uszkoreit, Llion Jones, Aidan N. Gomez, Łukasz Kaiser, Illia Polosukhin',\n",
       " 'lastpage': '6008'}"
      ]
     },
     "metadata": {},
     "output_type": "display_data"
    }
   ],
   "source": [
    "pdf_file.metadata"
   ]
  }
 ],
 "metadata": {
  "language_info": {
   "name": "python"
  }
 },
 "nbformat": 4,
 "nbformat_minor": 2
}
